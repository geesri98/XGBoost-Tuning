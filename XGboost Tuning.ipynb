{
 "cells": [
  {
   "cell_type": "code",
   "execution_count": 1,
   "id": "b4ac0d23",
   "metadata": {},
   "outputs": [],
   "source": [
    "import pandas as pd\n",
    "import numpy as np\n",
    "from numpy import argmax\n",
    "\n",
    "import matplotlib.pyplot as plt\n",
    "import seaborn as sns\n",
    "%matplotlib inline\n",
    "\n",
    "from sklearn import model_selection, metrics\n",
    "from sklearn.metrics import recall_score, precision_score, roc_auc_score, accuracy_score, f1_score, matthews_corrcoef, brier_score_loss, classification_report, confusion_matrix"
   ]
  },
  {
   "cell_type": "code",
   "execution_count": 2,
   "id": "ade324e8",
   "metadata": {},
   "outputs": [],
   "source": [
    "df = pd.read_csv(r\"C:\\Users\\vegek\\OneDrive\\Documents\\Python Scripts\\pima-indians-diabetes.csv\")"
   ]
  },
  {
   "cell_type": "code",
   "execution_count": 3,
   "id": "1a82ef7c",
   "metadata": {},
   "outputs": [],
   "source": [
    "df2 = df.copy()"
   ]
  },
  {
   "cell_type": "code",
   "execution_count": 4,
   "id": "80a1bf10",
   "metadata": {
    "scrolled": true
   },
   "outputs": [
    {
     "data": {
      "text/html": [
       "<div><div id=cb3a039b-9a89-4385-a8df-ce762a2e2986 style=\"display:none; background-color:#9D6CFF; color:white; width:200px; height:30px; padding-left:5px; border-radius:4px; flex-direction:row; justify-content:space-around; align-items:center;\" onmouseover=\"this.style.backgroundColor='#BA9BF8'\" onmouseout=\"this.style.backgroundColor='#9D6CFF'\" onclick=\"window.commands?.execute('create-mitosheet-from-dataframe-output');\">See Full Dataframe in Mito</div> <script> if (window.commands.hasCommand('create-mitosheet-from-dataframe-output')) document.getElementById('cb3a039b-9a89-4385-a8df-ce762a2e2986').style.display = 'flex' </script> <table border=\"1\" class=\"dataframe\">\n",
       "  <thead>\n",
       "    <tr style=\"text-align: right;\">\n",
       "      <th></th>\n",
       "      <th>Preg</th>\n",
       "      <th>Plas</th>\n",
       "      <th>Pres</th>\n",
       "      <th>skin</th>\n",
       "      <th>test</th>\n",
       "      <th>mass</th>\n",
       "      <th>pedi</th>\n",
       "      <th>age</th>\n",
       "      <th>class</th>\n",
       "    </tr>\n",
       "  </thead>\n",
       "  <tbody>\n",
       "    <tr>\n",
       "      <th>0</th>\n",
       "      <td>6</td>\n",
       "      <td>148</td>\n",
       "      <td>72</td>\n",
       "      <td>35</td>\n",
       "      <td>0</td>\n",
       "      <td>33.6</td>\n",
       "      <td>0.627</td>\n",
       "      <td>50</td>\n",
       "      <td>1</td>\n",
       "    </tr>\n",
       "    <tr>\n",
       "      <th>1</th>\n",
       "      <td>1</td>\n",
       "      <td>85</td>\n",
       "      <td>66</td>\n",
       "      <td>29</td>\n",
       "      <td>0</td>\n",
       "      <td>26.6</td>\n",
       "      <td>0.351</td>\n",
       "      <td>31</td>\n",
       "      <td>0</td>\n",
       "    </tr>\n",
       "    <tr>\n",
       "      <th>2</th>\n",
       "      <td>8</td>\n",
       "      <td>183</td>\n",
       "      <td>64</td>\n",
       "      <td>0</td>\n",
       "      <td>0</td>\n",
       "      <td>23.3</td>\n",
       "      <td>0.672</td>\n",
       "      <td>32</td>\n",
       "      <td>1</td>\n",
       "    </tr>\n",
       "    <tr>\n",
       "      <th>3</th>\n",
       "      <td>1</td>\n",
       "      <td>89</td>\n",
       "      <td>66</td>\n",
       "      <td>23</td>\n",
       "      <td>94</td>\n",
       "      <td>28.1</td>\n",
       "      <td>0.167</td>\n",
       "      <td>21</td>\n",
       "      <td>0</td>\n",
       "    </tr>\n",
       "    <tr>\n",
       "      <th>4</th>\n",
       "      <td>0</td>\n",
       "      <td>137</td>\n",
       "      <td>40</td>\n",
       "      <td>35</td>\n",
       "      <td>168</td>\n",
       "      <td>43.1</td>\n",
       "      <td>2.288</td>\n",
       "      <td>33</td>\n",
       "      <td>1</td>\n",
       "    </tr>\n",
       "  </tbody>\n",
       "</table></div>"
      ],
      "text/plain": [
       "   Preg  Plas  Pres  skin  test  mass   pedi  age  class\n",
       "0     6   148    72    35     0  33.6  0.627   50      1\n",
       "1     1    85    66    29     0  26.6  0.351   31      0\n",
       "2     8   183    64     0     0  23.3  0.672   32      1\n",
       "3     1    89    66    23    94  28.1  0.167   21      0\n",
       "4     0   137    40    35   168  43.1  2.288   33      1"
      ]
     },
     "execution_count": 4,
     "metadata": {},
     "output_type": "execute_result"
    }
   ],
   "source": [
    "df2.head()"
   ]
  },
  {
   "cell_type": "code",
   "execution_count": 5,
   "id": "be125b54",
   "metadata": {},
   "outputs": [
    {
     "data": {
      "text/plain": [
       "Preg     0\n",
       "Plas     0\n",
       "Pres     0\n",
       "skin     0\n",
       "test     0\n",
       "mass     0\n",
       "pedi     0\n",
       "age      0\n",
       "class    0\n",
       "dtype: int64"
      ]
     },
     "execution_count": 5,
     "metadata": {},
     "output_type": "execute_result"
    }
   ],
   "source": [
    "df2.isnull().sum()"
   ]
  },
  {
   "cell_type": "code",
   "execution_count": 6,
   "id": "75ec25c8",
   "metadata": {},
   "outputs": [],
   "source": [
    "X = df2.drop('class', axis=1)\n",
    "y = df2['class']"
   ]
  },
  {
   "cell_type": "code",
   "execution_count": 7,
   "id": "d9a647cb",
   "metadata": {},
   "outputs": [],
   "source": [
    "from sklearn.model_selection import train_test_split\n",
    "X_train, X_test, y_train, y_test = train_test_split(df2.drop('class', axis=1), df2['class'], test_size=0.30, random_state=101)"
   ]
  },
  {
   "cell_type": "code",
   "execution_count": 8,
   "id": "79cbc666",
   "metadata": {},
   "outputs": [],
   "source": [
    "#!pip install xgboost"
   ]
  },
  {
   "cell_type": "code",
   "execution_count": 9,
   "id": "3824293d",
   "metadata": {
    "scrolled": true
   },
   "outputs": [],
   "source": [
    "from xgboost import XGBClassifier\n",
    "import xgboost as xgb"
   ]
  },
  {
   "cell_type": "code",
   "execution_count": 10,
   "id": "4b451a34",
   "metadata": {
    "scrolled": true
   },
   "outputs": [],
   "source": [
    "#!pip install hyperopt"
   ]
  },
  {
   "cell_type": "code",
   "execution_count": 11,
   "id": "0cf2448f",
   "metadata": {
    "scrolled": true
   },
   "outputs": [],
   "source": [
    "# import packages for hyperparameters tuning\n",
    "from hyperopt import STATUS_OK, Trials, fmin, hp, tpe"
   ]
  },
  {
   "cell_type": "raw",
   "id": "59f0527b",
   "metadata": {},
   "source": [
    "#space options\n",
    "\n",
    "space={'max_depth': hp.quniform(\"max_depth\", 3, 18, 1),\n",
    "       'max_depth': hp.choice(\"max_depth\", np.arrange(1,14, dtype=int)),\n",
    "       'subsample': hp.uniform('subsample', 0, 1, 0.2) \n",
    "        'gamma': hp.uniform ('gamma', 1,9),\n",
    "       'gamma': hp.quniform ('gamma', 0, 5, 0.05),\n",
    "        'reg_alpha' : hp.quniform('reg_alpha', 40,180,1),\n",
    "        'reg_lambda' : hp.uniform('reg_lambda', 0,1),\n",
    "        'colsample_bytree' : hp.uniform('colsample_bytree', 0.5,1),\n",
    "        'min_child_weight' : hp.quniform('min_child_weight', 0, 10, 1),\n",
    "        'n_estimators': hp.quniform('n_estimators', 1000,10000,100),\n",
    "        'eta':hp.quniform(\"eta\", 0.01, 0.2, 0.005),\n",
    "       'eval_metric': 'auc',\n",
    "       'objective' : 'binary:logistic',\n",
    "        'seed': 0\n",
    "    }\n",
    "\n"
   ]
  },
  {
   "cell_type": "code",
   "execution_count": 12,
   "id": "020f553d",
   "metadata": {},
   "outputs": [],
   "source": [
    "space={'max_depth': hp.quniform(\"max_depth\", 3, 18, 1),\n",
    "        'gamma': hp.uniform ('gamma', 1,9),\n",
    "        'reg_alpha' : hp.quniform('reg_alpha', 40,180,1),\n",
    "        'reg_lambda' : hp.uniform('reg_lambda', 0,1),\n",
    "        'colsample_bytree' : hp.uniform('colsample_bytree', 0.5,1),\n",
    "        'min_child_weight' : hp.quniform('min_child_weight', 0, 10, 1),\n",
    "        'n_estimators': 180,\n",
    "        'seed': 0\n",
    "    }"
   ]
  },
  {
   "cell_type": "code",
   "execution_count": 13,
   "id": "da9826f0",
   "metadata": {},
   "outputs": [],
   "source": [
    "def objective(space):\n",
    "    clf=xgb.XGBClassifier(\n",
    "                    n_estimators =space['n_estimators'], max_depth = int(space['max_depth']), gamma = space['gamma'],\n",
    "                    reg_alpha = int(space['reg_alpha']),min_child_weight=int(space['min_child_weight']),\n",
    "                    colsample_bytree=int(space['colsample_bytree']))\n",
    "    \n",
    "    evaluation = [( X_train, y_train), ( X_test, y_test)]\n",
    "    \n",
    "    clf.fit(X_train, y_train,\n",
    "            eval_set=evaluation, eval_metric=\"auc\",\n",
    "            early_stopping_rounds=10,verbose=False)\n",
    "    \n",
    "\n",
    "    pred = clf.predict(X_test)\n",
    "    accuracy = accuracy_score(y_test, pred>0.5)\n",
    "    print (\"SCORE:\", accuracy)\n",
    "    return {'loss': -accuracy, 'status': STATUS_OK }"
   ]
  },
  {
   "cell_type": "code",
   "execution_count": 14,
   "id": "9b959366",
   "metadata": {
    "scrolled": false
   },
   "outputs": [
    {
     "name": "stdout",
     "output_type": "stream",
     "text": [
      "\r",
      "  0%|          | 0/10 [00:00<?, ?trial/s, best loss=?]"
     ]
    },
    {
     "name": "stderr",
     "output_type": "stream",
     "text": [
      "build_posterior_wrapper took 0.000899 seconds\n",
      "TPE using 0 trials\n"
     ]
    },
    {
     "name": "stdout",
     "output_type": "stream",
     "text": [
      "SCORE:                                                \n",
      "0.6493506493506493                                    \n",
      "  0%|          | 0/10 [00:00<?, ?trial/s, best loss=?]"
     ]
    },
    {
     "name": "stderr",
     "output_type": "stream",
     "text": [
      "C:\\Users\\vegek\\anaconda3\\lib\\site-packages\\xgboost\\sklearn.py:1224: UserWarning: The use of label encoder in XGBClassifier is deprecated and will be removed in a future release. To remove this warning, do the following: 1) Pass option use_label_encoder=False when constructing XGBClassifier object; and 2) Encode your labels (y) as integers starting with 0, i.e. 0, 1, 2, ..., [num_class - 1].\n",
      "  warnings.warn(label_encoder_deprecation_msg, UserWarning)\n",
      "\n",
      "build_posterior_wrapper took 0.001993 seconds\n",
      "TPE using 1/1 trials with best loss -0.649351\n"
     ]
    },
    {
     "name": "stdout",
     "output_type": "stream",
     "text": [
      "SCORE:                                                \n",
      "0.6493506493506493                                                               \n",
      " 10%|█         | 1/10 [00:00<00:00, 14.16trial/s, best loss: -0.6493506493506493]"
     ]
    },
    {
     "name": "stderr",
     "output_type": "stream",
     "text": [
      "C:\\Users\\vegek\\anaconda3\\lib\\site-packages\\xgboost\\sklearn.py:1224: UserWarning: The use of label encoder in XGBClassifier is deprecated and will be removed in a future release. To remove this warning, do the following: 1) Pass option use_label_encoder=False when constructing XGBClassifier object; and 2) Encode your labels (y) as integers starting with 0, i.e. 0, 1, 2, ..., [num_class - 1].\n",
      "  warnings.warn(label_encoder_deprecation_msg, UserWarning)\n",
      "\n",
      "build_posterior_wrapper took 0.001993 seconds\n",
      "TPE using 2/2 trials with best loss -0.649351\n"
     ]
    },
    {
     "name": "stdout",
     "output_type": "stream",
     "text": [
      "SCORE:                                                                           \n",
      "0.6493506493506493                                                               \n",
      " 20%|██        | 2/10 [00:00<00:00, 21.37trial/s, best loss: -0.6493506493506493]"
     ]
    },
    {
     "name": "stderr",
     "output_type": "stream",
     "text": [
      "C:\\Users\\vegek\\anaconda3\\lib\\site-packages\\xgboost\\sklearn.py:1224: UserWarning: The use of label encoder in XGBClassifier is deprecated and will be removed in a future release. To remove this warning, do the following: 1) Pass option use_label_encoder=False when constructing XGBClassifier object; and 2) Encode your labels (y) as integers starting with 0, i.e. 0, 1, 2, ..., [num_class - 1].\n",
      "  warnings.warn(label_encoder_deprecation_msg, UserWarning)\n",
      "\n",
      "build_posterior_wrapper took 0.001993 seconds\n",
      "TPE using 3/3 trials with best loss -0.649351\n"
     ]
    },
    {
     "name": "stdout",
     "output_type": "stream",
     "text": [
      "SCORE:                                                                           \n",
      "0.6493506493506493                                                               \n",
      " 40%|████      | 4/10 [00:00<00:00, 34.05trial/s, best loss: -0.6493506493506493]"
     ]
    },
    {
     "name": "stderr",
     "output_type": "stream",
     "text": [
      "C:\\Users\\vegek\\anaconda3\\lib\\site-packages\\xgboost\\sklearn.py:1224: UserWarning: The use of label encoder in XGBClassifier is deprecated and will be removed in a future release. To remove this warning, do the following: 1) Pass option use_label_encoder=False when constructing XGBClassifier object; and 2) Encode your labels (y) as integers starting with 0, i.e. 0, 1, 2, ..., [num_class - 1].\n",
      "  warnings.warn(label_encoder_deprecation_msg, UserWarning)\n",
      "\n",
      "build_posterior_wrapper took 0.001993 seconds\n",
      "TPE using 4/4 trials with best loss -0.649351\n"
     ]
    },
    {
     "name": "stdout",
     "output_type": "stream",
     "text": [
      "SCORE:                                                                           \n",
      "0.6493506493506493                                                               \n",
      " 40%|████      | 4/10 [00:00<00:00, 34.05trial/s, best loss: -0.6493506493506493]"
     ]
    },
    {
     "name": "stderr",
     "output_type": "stream",
     "text": [
      "C:\\Users\\vegek\\anaconda3\\lib\\site-packages\\xgboost\\sklearn.py:1224: UserWarning: The use of label encoder in XGBClassifier is deprecated and will be removed in a future release. To remove this warning, do the following: 1) Pass option use_label_encoder=False when constructing XGBClassifier object; and 2) Encode your labels (y) as integers starting with 0, i.e. 0, 1, 2, ..., [num_class - 1].\n",
      "  warnings.warn(label_encoder_deprecation_msg, UserWarning)\n",
      "\n",
      "build_posterior_wrapper took 0.002990 seconds\n",
      "TPE using 5/5 trials with best loss -0.649351\n"
     ]
    },
    {
     "name": "stdout",
     "output_type": "stream",
     "text": [
      "SCORE:                                                                           \n",
      "0.6493506493506493                                                               \n",
      " 50%|█████     | 5/10 [00:00<00:00, 34.05trial/s, best loss: -0.6493506493506493]"
     ]
    },
    {
     "name": "stderr",
     "output_type": "stream",
     "text": [
      "C:\\Users\\vegek\\anaconda3\\lib\\site-packages\\xgboost\\sklearn.py:1224: UserWarning: The use of label encoder in XGBClassifier is deprecated and will be removed in a future release. To remove this warning, do the following: 1) Pass option use_label_encoder=False when constructing XGBClassifier object; and 2) Encode your labels (y) as integers starting with 0, i.e. 0, 1, 2, ..., [num_class - 1].\n",
      "  warnings.warn(label_encoder_deprecation_msg, UserWarning)\n",
      "\n",
      "build_posterior_wrapper took 0.001993 seconds\n",
      "TPE using 6/6 trials with best loss -0.649351\n",
      "C:\\Users\\vegek\\anaconda3\\lib\\site-packages\\xgboost\\sklearn.py:1224: UserWarning: The use of label encoder in XGBClassifier is deprecated and will be removed in a future release. To remove this warning, do the following: 1) Pass option use_label_encoder=False when constructing XGBClassifier object; and 2) Encode your labels (y) as integers starting with 0, i.e. 0, 1, 2, ..., [num_class - 1].\n",
      "  warnings.warn(label_encoder_deprecation_msg, UserWarning)\n",
      "\n"
     ]
    },
    {
     "name": "stdout",
     "output_type": "stream",
     "text": [
      "SCORE:                                                                           \n",
      "0.6493506493506493                                                               \n",
      " 60%|██████    | 6/10 [00:00<00:00, 34.05trial/s, best loss: -0.6493506493506493]"
     ]
    },
    {
     "name": "stderr",
     "output_type": "stream",
     "text": [
      "build_posterior_wrapper took 0.001993 seconds\n",
      "TPE using 7/7 trials with best loss -0.649351\n"
     ]
    },
    {
     "name": "stdout",
     "output_type": "stream",
     "text": [
      "SCORE:                                                                           \n",
      "0.6493506493506493                                                               \n",
      " 70%|███████   | 7/10 [00:00<00:00, 34.05trial/s, best loss: -0.6493506493506493]"
     ]
    },
    {
     "name": "stderr",
     "output_type": "stream",
     "text": [
      "C:\\Users\\vegek\\anaconda3\\lib\\site-packages\\xgboost\\sklearn.py:1224: UserWarning: The use of label encoder in XGBClassifier is deprecated and will be removed in a future release. To remove this warning, do the following: 1) Pass option use_label_encoder=False when constructing XGBClassifier object; and 2) Encode your labels (y) as integers starting with 0, i.e. 0, 1, 2, ..., [num_class - 1].\n",
      "  warnings.warn(label_encoder_deprecation_msg, UserWarning)\n",
      "\n",
      "build_posterior_wrapper took 0.001993 seconds\n",
      "TPE using 8/8 trials with best loss -0.649351\n",
      "C:\\Users\\vegek\\anaconda3\\lib\\site-packages\\xgboost\\sklearn.py:1224: UserWarning: The use of label encoder in XGBClassifier is deprecated and will be removed in a future release. To remove this warning, do the following: 1) Pass option use_label_encoder=False when constructing XGBClassifier object; and 2) Encode your labels (y) as integers starting with 0, i.e. 0, 1, 2, ..., [num_class - 1].\n",
      "  warnings.warn(label_encoder_deprecation_msg, UserWarning)\n",
      "\n"
     ]
    },
    {
     "name": "stdout",
     "output_type": "stream",
     "text": [
      "SCORE:                                                                           \n",
      "0.6493506493506493                                                               \n",
      " 90%|█████████ | 9/10 [00:00<00:00, 38.45trial/s, best loss: -0.6493506493506493]"
     ]
    },
    {
     "name": "stderr",
     "output_type": "stream",
     "text": [
      "build_posterior_wrapper took 0.001993 seconds\n",
      "TPE using 9/9 trials with best loss -0.649351\n",
      "C:\\Users\\vegek\\anaconda3\\lib\\site-packages\\xgboost\\sklearn.py:1224: UserWarning: The use of label encoder in XGBClassifier is deprecated and will be removed in a future release. To remove this warning, do the following: 1) Pass option use_label_encoder=False when constructing XGBClassifier object; and 2) Encode your labels (y) as integers starting with 0, i.e. 0, 1, 2, ..., [num_class - 1].\n",
      "  warnings.warn(label_encoder_deprecation_msg, UserWarning)\n",
      "\n"
     ]
    },
    {
     "name": "stdout",
     "output_type": "stream",
     "text": [
      "SCORE:                                                                           \n",
      "0.6493506493506493                                                               \n",
      "100%|██████████| 10/10 [00:00<00:00, 38.17trial/s, best loss: -0.6493506493506493]\n"
     ]
    }
   ],
   "source": [
    "trials = Trials()\n",
    "\n",
    "best_hyperparams = fmin(fn = objective,\n",
    "                        space = space,\n",
    "                        algo = tpe.suggest,\n",
    "                        max_evals = 10,\n",
    "                        trials = trials)"
   ]
  },
  {
   "cell_type": "code",
   "execution_count": 15,
   "id": "408e45c0",
   "metadata": {},
   "outputs": [
    {
     "name": "stdout",
     "output_type": "stream",
     "text": [
      "The best hyperparameters are :  \n",
      "\n",
      "{'colsample_bytree': 0.9348052040828857, 'gamma': 5.391549119378258, 'max_depth': 15.0, 'min_child_weight': 9.0, 'reg_alpha': 129.0, 'reg_lambda': 0.9822898009671374}\n"
     ]
    }
   ],
   "source": [
    "print(\"The best hyperparameters are : \",\"\\n\")\n",
    "print(best_hyperparams)"
   ]
  },
  {
   "cell_type": "code",
   "execution_count": 16,
   "id": "5eeb84bb",
   "metadata": {},
   "outputs": [],
   "source": [
    "algo = []\n",
    "tr_acc = []\n",
    "te_acc = []\n",
    "tr_pre = []\n",
    "te_pre = []\n",
    "tr_rec = []\n",
    "te_rec = []\n",
    "tr_f1 = []\n",
    "te_f1 = []\n",
    "tr_roc = []\n",
    "te_roc = []\n",
    "tr_mcc = []\n",
    "te_mcc = []\n",
    "tr_bri = []\n",
    "te_bri = []"
   ]
  },
  {
   "cell_type": "code",
   "execution_count": 17,
   "id": "eca810b6",
   "metadata": {},
   "outputs": [
    {
     "name": "stderr",
     "output_type": "stream",
     "text": [
      "C:\\Users\\vegek\\anaconda3\\lib\\site-packages\\xgboost\\sklearn.py:1224: UserWarning: The use of label encoder in XGBClassifier is deprecated and will be removed in a future release. To remove this warning, do the following: 1) Pass option use_label_encoder=False when constructing XGBClassifier object; and 2) Encode your labels (y) as integers starting with 0, i.e. 0, 1, 2, ..., [num_class - 1].\n",
      "  warnings.warn(label_encoder_deprecation_msg, UserWarning)\n"
     ]
    },
    {
     "name": "stdout",
     "output_type": "stream",
     "text": [
      "[22:48:25] WARNING: C:/Users/Administrator/workspace/xgboost-win64_release_1.5.1/src/learner.cc:576: \n",
      "Parameters: { \"early_stopping_rounds\", \"eval_metic\" } might not be used.\n",
      "\n",
      "  This could be a false alarm, with some parameters getting used by language bindings but\n",
      "  then being mistakenly passed down to XGBoost core, or some parameter actually being used\n",
      "  but getting flagged wrongly here. Please open an issue if you find any such cases.\n",
      "\n",
      "\n",
      "[22:48:25] WARNING: C:/Users/Administrator/workspace/xgboost-win64_release_1.5.1/src/learner.cc:1115: Starting in XGBoost 1.3.0, the default evaluation metric used with the objective 'binary:logistic' was changed from 'error' to 'logloss'. Explicitly set eval_metric if you'd like to restore the old behavior.\n"
     ]
    }
   ],
   "source": [
    "model = XGBClassifier(random_state = 101, objective='binary:logistic', eta=0.025, gamma=1.3, n_estimators=4700, max_depth=11,\n",
    "                     subsample=0.6, eval_metic='auc', early_stopping_rounds=50, seed=101)\n",
    "\n",
    "model.fit(X_train, y_train)\n",
    "\n",
    "algo.append('Model:1')\n",
    "tr_acc.append(model.score(X_train, y_train))\n",
    "te_acc.append(model.score(X_test, y_test))\n",
    "tr_pre.append(precision_score(y_train, model.predict(X_train)))\n",
    "te_pre.append(precision_score(y_test, model.predict(X_test)))\n",
    "tr_rec.append(recall_score(y_train, model.predict(X_train)))\n",
    "te_rec.append(recall_score(y_test, model.predict(X_test)))\n",
    "tr_f1.append(f1_score(y_train, model.predict(X_train)))\n",
    "te_f1.append(f1_score(y_test, model.predict(X_test)))\n",
    "tr_roc.append(roc_auc_score(y_train, model.predict(X_train)))\n",
    "te_roc.append(roc_auc_score(y_test, model.predict(X_test)))\n",
    "tr_mcc.append(matthews_corrcoef(y_train, model.predict(X_train)))\n",
    "te_mcc.append(matthews_corrcoef(y_test, model.predict(X_test)))\n",
    "tr_bri.append(brier_score_loss(y_train, model.predict(X_train)))\n",
    "te_bri.append(brier_score_loss(y_test, model.predict(X_test)))\n"
   ]
  },
  {
   "cell_type": "code",
   "execution_count": 18,
   "id": "67b5454c",
   "metadata": {},
   "outputs": [
    {
     "data": {
      "text/html": [
       "<div><div id=811ae4c0-a3f3-42e1-af7d-e5d67d90fb0b style=\"display:none; background-color:#9D6CFF; color:white; width:200px; height:30px; padding-left:5px; border-radius:4px; flex-direction:row; justify-content:space-around; align-items:center;\" onmouseover=\"this.style.backgroundColor='#BA9BF8'\" onmouseout=\"this.style.backgroundColor='#9D6CFF'\" onclick=\"window.commands?.execute('create-mitosheet-from-dataframe-output');\">See Full Dataframe in Mito</div> <script> if (window.commands.hasCommand('create-mitosheet-from-dataframe-output')) document.getElementById('811ae4c0-a3f3-42e1-af7d-e5d67d90fb0b').style.display = 'flex' </script> <table border=\"1\" class=\"dataframe\">\n",
       "  <thead>\n",
       "    <tr style=\"text-align: right;\">\n",
       "      <th></th>\n",
       "      <th>Tr_Acc</th>\n",
       "      <th>Te_Acc</th>\n",
       "      <th>Tr_Pre</th>\n",
       "      <th>Te_Pre</th>\n",
       "      <th>Tr_Rec</th>\n",
       "      <th>Te_Rec</th>\n",
       "      <th>Tr_F1</th>\n",
       "      <th>Te_F1</th>\n",
       "      <th>Tr_ROC</th>\n",
       "      <th>Te_ROC</th>\n",
       "      <th>Tr_MCC</th>\n",
       "      <th>Te_MCC</th>\n",
       "      <th>Tr_Bri</th>\n",
       "      <th>Te_Bri</th>\n",
       "    </tr>\n",
       "    <tr>\n",
       "      <th>Model</th>\n",
       "      <th></th>\n",
       "      <th></th>\n",
       "      <th></th>\n",
       "      <th></th>\n",
       "      <th></th>\n",
       "      <th></th>\n",
       "      <th></th>\n",
       "      <th></th>\n",
       "      <th></th>\n",
       "      <th></th>\n",
       "      <th></th>\n",
       "      <th></th>\n",
       "      <th></th>\n",
       "      <th></th>\n",
       "    </tr>\n",
       "  </thead>\n",
       "  <tbody>\n",
       "    <tr>\n",
       "      <th>Model:1</th>\n",
       "      <td>0.998138</td>\n",
       "      <td>0.744589</td>\n",
       "      <td>1.0</td>\n",
       "      <td>0.630952</td>\n",
       "      <td>0.994652</td>\n",
       "      <td>0.654321</td>\n",
       "      <td>0.997319</td>\n",
       "      <td>0.642424</td>\n",
       "      <td>0.997326</td>\n",
       "      <td>0.723827</td>\n",
       "      <td>0.995901</td>\n",
       "      <td>0.444051</td>\n",
       "      <td>0.001862</td>\n",
       "      <td>0.255411</td>\n",
       "    </tr>\n",
       "  </tbody>\n",
       "</table></div>"
      ],
      "text/plain": [
       "           Tr_Acc    Te_Acc  Tr_Pre    Te_Pre    Tr_Rec    Te_Rec     Tr_F1  \\\n",
       "Model                                                                         \n",
       "Model:1  0.998138  0.744589     1.0  0.630952  0.994652  0.654321  0.997319   \n",
       "\n",
       "            Te_F1    Tr_ROC    Te_ROC    Tr_MCC    Te_MCC    Tr_Bri    Te_Bri  \n",
       "Model                                                                          \n",
       "Model:1  0.642424  0.997326  0.723827  0.995901  0.444051  0.001862  0.255411  "
      ]
     },
     "execution_count": 18,
     "metadata": {},
     "output_type": "execute_result"
    }
   ],
   "source": [
    "results = pd.DataFrame()\n",
    "results['Model'] = algo\n",
    "results['Tr_Acc'] = tr_acc\n",
    "results['Te_Acc'] = te_acc\n",
    "results['Tr_Pre'] = tr_pre\n",
    "results['Te_Pre'] = te_pre\n",
    "results['Tr_Rec'] = tr_rec\n",
    "results['Te_Rec'] = te_rec\n",
    "results['Tr_F1'] = tr_f1\n",
    "results['Te_F1'] = te_f1\n",
    "results['Tr_ROC'] = tr_roc\n",
    "results['Te_ROC'] = te_roc\n",
    "results['Tr_MCC'] = tr_mcc\n",
    "results['Te_MCC'] = te_mcc\n",
    "results['Tr_Bri'] = tr_bri\n",
    "results['Te_Bri'] = te_bri\n",
    "results = results.set_index('Model')\n",
    "results"
   ]
  },
  {
   "cell_type": "code",
   "execution_count": 27,
   "id": "483fec31",
   "metadata": {},
   "outputs": [
    {
     "data": {
      "image/png": "[encoded data removed]",
      "text/plain": [
       "<Figure size 864x432 with 1 Axes>"
      ]
     },
     "metadata": {
      "needs_background": "light"
     },
     "output_type": "display_data"
    }
   ],
   "source": [
    "#Calibration curve\n",
    "from sklearn.calibration import calibration_curve\n",
    "y_test_predict_proba = model.predict_proba(X_test)[:, 1]\n",
    "fraction_of_positives, mean_predicted_value = calibration_curve(y_test, y_test_predict_proba, n_bins=10)\n",
    "\n",
    "fig, ax = plt.subplots(1, figsize=(12,6))\n",
    "plt.plot(mean_predicted_value, fraction_of_positives, 's-')\n",
    "plt.plot([0, 1], [0, 1], '--', color='gray')\n",
    "\n",
    "sns.despine(left=True, bottom=True)\n",
    "plt.box(False)\n",
    "plt.gca().xaxis.set_ticks_position('none')\n",
    "plt.gca().yaxis.set_ticks_position('none')\n",
    "plt.grid(b=True, which='both', color='0.65', linestyle='-')\n",
    "plt.xlabel('Estimated Probability', fontsize=15)\n",
    "plt.ylabel('Actual Probability', fontsize=15)\n",
    "plt.title('Calibration Curve', fontsize = 20)\n",
    "plt.show()"
   ]
  },
  {
   "cell_type": "code",
   "execution_count": 20,
   "id": "90a55ca3",
   "metadata": {},
   "outputs": [
    {
     "data": {
      "image/png": "[encoded data removed]",
      "text/plain": [
       "<Figure size 864x432 with 1 Axes>"
      ]
     },
     "metadata": {
      "needs_background": "light"
     },
     "output_type": "display_data"
    }
   ],
   "source": [
    "#Precision_Recall_Threshold\n",
    "from sklearn.metrics import precision_recall_curve\n",
    "plt.figure(figsize=(12,6))\n",
    "probas_pred = model.predict_proba(X_test)\n",
    "precision, recall, threshold = precision_recall_curve(y_test, probas_pred[:,1], pos_label=1, sample_weight=None)\n",
    "\n",
    "plt.title('Density Plot', fontsize=20)\n",
    "plt.grid(b=True, which='both', color='0.65', linestyle='-')\n",
    "plt.plot(threshold, precision[:-1], 'b--', label='Precision')\n",
    "plt.plot(threshold, recall[:-1], 'g--', label='Recall')\n",
    "plt.xlabel('Threshold')\n",
    "plt.legend(loc='upper left')\n",
    "plt.ylim([0,1])\n",
    "plt.show()"
   ]
  },
  {
   "cell_type": "code",
   "execution_count": 21,
   "id": "fe226af3",
   "metadata": {},
   "outputs": [],
   "source": [
    "algo.append('Model:1 Thres 0.6')\n",
    "tr_acc.append(model.score(X_train, y_train))\n",
    "te_acc.append(model.score(X_test, y_test))\n",
    "tr_pre.append(precision_score(y_train, (model.predict_proba(X_train)[:,1] >= 0.6)))\n",
    "te_pre.append(precision_score(y_test, (model.predict_proba(X_test)[:,1] >= 0.6)))\n",
    "tr_rec.append(recall_score(y_train,(model.predict_proba(X_train)[:,1] >= 0.6)))\n",
    "te_rec.append(recall_score(y_test, (model.predict_proba(X_test)[:,1] >= 0.6)))\n",
    "tr_f1.append(f1_score(y_train, (model.predict_proba(X_train)[:,1] >= 0.6)))\n",
    "te_f1.append(f1_score(y_test,(model.predict_proba(X_test)[:,1] >= 0.6)))\n",
    "tr_roc.append(roc_auc_score(y_train, (model.predict_proba(X_train)[:,1] >= 0.6)))\n",
    "te_roc.append(roc_auc_score(y_test, (model.predict_proba(X_test)[:,1] >= 0.6)))\n",
    "tr_mcc.append(matthews_corrcoef(y_train, (model.predict_proba(X_train)[:,1] >= 0.6)))\n",
    "te_mcc.append(matthews_corrcoef(y_test, (model.predict_proba(X_test)[:,1] >= 0.6)))\n",
    "tr_bri.append(brier_score_loss(y_train, (model.predict_proba(X_train)[:,1] >= 0.6)))\n",
    "te_bri.append(brier_score_loss(y_test, (model.predict_proba(X_test)[:,1] >= 0.6)))\n"
   ]
  },
  {
   "cell_type": "code",
   "execution_count": 22,
   "id": "dcab13ab",
   "metadata": {},
   "outputs": [
    {
     "data": {
      "text/html": [
       "<div><div id=84ea7c2c-21fe-4ed3-81bb-8e889b573bb7 style=\"display:none; background-color:#9D6CFF; color:white; width:200px; height:30px; padding-left:5px; border-radius:4px; flex-direction:row; justify-content:space-around; align-items:center;\" onmouseover=\"this.style.backgroundColor='#BA9BF8'\" onmouseout=\"this.style.backgroundColor='#9D6CFF'\" onclick=\"window.commands?.execute('create-mitosheet-from-dataframe-output');\">See Full Dataframe in Mito</div> <script> if (window.commands.hasCommand('create-mitosheet-from-dataframe-output')) document.getElementById('84ea7c2c-21fe-4ed3-81bb-8e889b573bb7').style.display = 'flex' </script> <table border=\"1\" class=\"dataframe\">\n",
       "  <thead>\n",
       "    <tr style=\"text-align: right;\">\n",
       "      <th></th>\n",
       "      <th>Tr_Acc</th>\n",
       "      <th>Te_Acc</th>\n",
       "      <th>Tr_Pre</th>\n",
       "      <th>Te_Pre</th>\n",
       "      <th>Tr_Rec</th>\n",
       "      <th>Te_Rec</th>\n",
       "      <th>Tr_F1</th>\n",
       "      <th>Te_F1</th>\n",
       "      <th>Tr_ROC</th>\n",
       "      <th>Te_ROC</th>\n",
       "      <th>Tr_MCC</th>\n",
       "      <th>Te_MCC</th>\n",
       "      <th>Tr_Bri</th>\n",
       "      <th>Te_Bri</th>\n",
       "    </tr>\n",
       "    <tr>\n",
       "      <th>Model</th>\n",
       "      <th></th>\n",
       "      <th></th>\n",
       "      <th></th>\n",
       "      <th></th>\n",
       "      <th></th>\n",
       "      <th></th>\n",
       "      <th></th>\n",
       "      <th></th>\n",
       "      <th></th>\n",
       "      <th></th>\n",
       "      <th></th>\n",
       "      <th></th>\n",
       "      <th></th>\n",
       "      <th></th>\n",
       "    </tr>\n",
       "  </thead>\n",
       "  <tbody>\n",
       "    <tr>\n",
       "      <th>Model:1</th>\n",
       "      <td>0.998138</td>\n",
       "      <td>0.744589</td>\n",
       "      <td>1.0</td>\n",
       "      <td>0.630952</td>\n",
       "      <td>0.994652</td>\n",
       "      <td>0.654321</td>\n",
       "      <td>0.997319</td>\n",
       "      <td>0.642424</td>\n",
       "      <td>0.997326</td>\n",
       "      <td>0.723827</td>\n",
       "      <td>0.995901</td>\n",
       "      <td>0.444051</td>\n",
       "      <td>0.001862</td>\n",
       "      <td>0.255411</td>\n",
       "    </tr>\n",
       "    <tr>\n",
       "      <th>Model:1 Thres 0.6</th>\n",
       "      <td>0.998138</td>\n",
       "      <td>0.744589</td>\n",
       "      <td>1.0</td>\n",
       "      <td>0.671233</td>\n",
       "      <td>0.983957</td>\n",
       "      <td>0.604938</td>\n",
       "      <td>0.991914</td>\n",
       "      <td>0.636364</td>\n",
       "      <td>0.991979</td>\n",
       "      <td>0.722469</td>\n",
       "      <td>0.987722</td>\n",
       "      <td>0.456665</td>\n",
       "      <td>0.005587</td>\n",
       "      <td>0.242424</td>\n",
       "    </tr>\n",
       "  </tbody>\n",
       "</table></div>"
      ],
      "text/plain": [
       "                     Tr_Acc    Te_Acc  Tr_Pre    Te_Pre    Tr_Rec    Te_Rec  \\\n",
       "Model                                                                         \n",
       "Model:1            0.998138  0.744589     1.0  0.630952  0.994652  0.654321   \n",
       "Model:1 Thres 0.6  0.998138  0.744589     1.0  0.671233  0.983957  0.604938   \n",
       "\n",
       "                      Tr_F1     Te_F1    Tr_ROC    Te_ROC    Tr_MCC    Te_MCC  \\\n",
       "Model                                                                           \n",
       "Model:1            0.997319  0.642424  0.997326  0.723827  0.995901  0.444051   \n",
       "Model:1 Thres 0.6  0.991914  0.636364  0.991979  0.722469  0.987722  0.456665   \n",
       "\n",
       "                     Tr_Bri    Te_Bri  \n",
       "Model                                  \n",
       "Model:1            0.001862  0.255411  \n",
       "Model:1 Thres 0.6  0.005587  0.242424  "
      ]
     },
     "execution_count": 22,
     "metadata": {},
     "output_type": "execute_result"
    }
   ],
   "source": [
    "results = pd.DataFrame()\n",
    "results['Model'] = algo\n",
    "results['Tr_Acc'] = tr_acc\n",
    "results['Te_Acc'] = te_acc\n",
    "results['Tr_Pre'] = tr_pre\n",
    "results['Te_Pre'] = te_pre\n",
    "results['Tr_Rec'] = tr_rec\n",
    "results['Te_Rec'] = te_rec\n",
    "results['Tr_F1'] = tr_f1\n",
    "results['Te_F1'] = te_f1\n",
    "results['Tr_ROC'] = tr_roc\n",
    "results['Te_ROC'] = te_roc\n",
    "results['Tr_MCC'] = tr_mcc\n",
    "results['Te_MCC'] = te_mcc\n",
    "results['Tr_Bri'] = tr_bri\n",
    "results['Te_Bri'] = te_bri\n",
    "results = results.set_index('Model')\n",
    "results"
   ]
  },
  {
   "cell_type": "code",
   "execution_count": 23,
   "id": "f3290bfd",
   "metadata": {},
   "outputs": [
    {
     "data": {
      "image/png": "[encoded data removed]",
      "text/plain": [
       "<Figure size 720x720 with 1 Axes>"
      ]
     },
     "metadata": {
      "needs_background": "light"
     },
     "output_type": "display_data"
    }
   ],
   "source": [
    "from xgboost import plot_importance\n",
    "from pylab import rcParams\n",
    "rcParams['figure.figsize'] = 20, 30\n",
    "plt.rcParams.update({'font.size':20})\n",
    "size = 18\n",
    "params = {'legend.fontsize': 'large',\n",
    "          'figure.figsize': (10,10),\n",
    "          'axes.labelsize': size,\n",
    "          'axes.titlesize': size,\n",
    "          'xtick.labelsize': size,\n",
    "          'ytick.labelsize': size,\n",
    "          'axes.titlepad' : size}\n",
    "plt.rcParams.update(params)\n",
    "\n",
    "plot_importance(model)\n",
    "plt.show()"
   ]
  },
  {
   "cell_type": "code",
   "execution_count": 24,
   "id": "943bd0ff",
   "metadata": {},
   "outputs": [],
   "source": [
    "def crp(model, output):\n",
    "    z = pd.DataFrame()                                               # creating a new dataframe\n",
    "    z['Actual'] = y_test.values                                      # Storing actual output of target variable\n",
    "\n",
    "    z['Probaility that output is 0'] = model.predict_proba(X_test)[:,0]\n",
    "    # Probabilities predicted by Logistic regression model\n",
    "    z['Probaility that output is 1'] = model.predict_proba(X_test)[:,1]\n",
    "\n",
    "    z['Predicted'] = model.predict(X_test)                               # Predicting target variable using sklearn Logistic regression\n",
    "\n",
    "    # In sklearn default threshold is 0.5\n",
    "    # therfore for all the values whose probability for 1 is greater than 0.5 will be predicted as 1\n",
    "    \n",
    "    cf_matrix = confusion_matrix(z['Actual'], z['Predicted'])\n",
    "    group_names = ['True_Neg','False_Pos','False_Neg','True_Pos']\n",
    "    group_counts = [\"{0:0.0f}\".format(value) for value in\n",
    "                cf_matrix.flatten()]\n",
    "    group_percentages = [\"{0:.2%}\".format(value) for value in\n",
    "                     cf_matrix.flatten()/np.sum(cf_matrix)]\n",
    "    labels = [f\"{v1}\\n{v2}\\n{v3}\" for v1, v2, v3 in\n",
    "          zip(group_names,group_counts,group_percentages)]\n",
    "    labels = np.asarray(labels).reshape(2,2)\n",
    "    plt.figure(figsize=(10,8))\n",
    "    sns.heatmap(cf_matrix, annot=labels, fmt='', cmap='Blues', annot_kws={\"size\":25})\n",
    "    plt.ylabel('Actual label', fontsize = 15)\n",
    "    plt.xlabel('Predicted label',fontsize = 15)\n",
    "    "
   ]
  },
  {
   "cell_type": "code",
   "execution_count": 25,
   "id": "5dd86053",
   "metadata": {
    "scrolled": false
   },
   "outputs": [
    {
     "data": {
      "image/png": "[encoded data removed]",
      "text/plain": [
       "<Figure size 720x576 with 2 Axes>"
      ]
     },
     "metadata": {
      "needs_background": "light"
     },
     "output_type": "display_data"
    }
   ],
   "source": [
    "model_df = crp(model, 'model')\n",
    "model_df"
   ]
  }
 ],
 "metadata": {
  "kernelspec": {
   "display_name": "Python 3 (ipykernel)",
   "language": "python",
   "name": "python3"
  },
  "language_info": {
   "codemirror_mode": {
    "name": "ipython",
    "version": 3
   },
   "file_extension": ".py",
   "mimetype": "text/x-python",
   "name": "python",
   "nbconvert_exporter": "python",
   "pygments_lexer": "ipython3",
   "version": "3.7.11"
  }
 },
 "nbformat": 4,
 "nbformat_minor": 5
}
